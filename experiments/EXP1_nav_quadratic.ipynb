{
 "cells": [
  {
   "cell_type": "code",
   "execution_count": null,
   "metadata": {},
   "outputs": [],
   "source": [
    "import os, sys\n",
    "import numpy as np\n",
    "import torch"
   ]
  },
  {
   "cell_type": "code",
   "execution_count": null,
   "metadata": {},
   "outputs": [],
   "source": [
    "d = os.getcwd()\n",
    "p = os.path.dirname(d)\n",
    "\n",
    "sys.path.append(p)"
   ]
  },
  {
   "cell_type": "code",
   "execution_count": null,
   "metadata": {},
   "outputs": [],
   "source": [
    "from src.dynamics import RobotWorld\n",
    "from src.lqr import Lqr\n",
    "from src.algorithms.dpgpd import Dpgpd\n",
    "from src.algorithms.adpgpd import ADpgpd\n",
    "from src.sampling import Sampler"
   ]
  },
  {
   "cell_type": "markdown",
   "metadata": {},
   "source": [
    "# 1 - Parameters"
   ]
  },
  {
   "cell_type": "code",
   "execution_count": null,
   "metadata": {},
   "outputs": [],
   "source": [
    "ds = 4\n",
    "da = 2\n",
    "\n",
    "eta = 0.01\n",
    "tau = 0.01\n",
    "gamma = 0.9\n",
    "alpha = 1.0\n",
    "\n",
    "epochs = 2_000\n",
    "n_pe = 100\n",
    "n_rho = 1_000_000\n",
    "\n",
    "b = - 90\n",
    "\n",
    "G1 = - torch.tensor([\n",
    "    [1.0, 0, 0, 0],\n",
    "    [0, 1.0, 0, 0],\n",
    "    [0, 0, .1, 0],\n",
    "    [0, 0, 0, .1]\n",
    "])\n",
    "\n",
    "R1 =  - torch.tensor([\n",
    "    [0.1, 0],\n",
    "    [0, 0.1],\n",
    "]).double()\n",
    "\n",
    "H = - (tau / 2) * torch.eye(da)\n",
    "\n",
    "G2 = - torch.tensor([\n",
    "    [.1, 0, 0, 0],\n",
    "    [0, .1, 0, 0],\n",
    "    [0, 0, 1.0, 0],\n",
    "    [0, 0, 0, 1.0]\n",
    "])\n",
    "\n",
    "R2 = - torch.tensor([\n",
    "    [0.1, 0],\n",
    "    [0, 0.1],\n",
    "]).double()\n",
    "\n",
    "env = RobotWorld(range_pos=[-10., 10.], range_vel=[-.1, .1])\n",
    "lqr = Lqr(env.A, env.B, gamma)\n",
    "sampler = Sampler(env, gamma)"
   ]
  },
  {
   "cell_type": "markdown",
   "metadata": {},
   "source": [
    "# 2 - Solution"
   ]
  },
  {
   "cell_type": "code",
   "execution_count": null,
   "metadata": {},
   "outputs": [],
   "source": [
    "P = lqr.calculate_optimal_P(G1, R1)\n",
    "K = lqr.calculate_optimal_K(R1, P)\n",
    "opt_lqr = sampler.estimate_V_rho_closed(P, 1_000_000)\n",
    "print(f\"Optimal solution: {opt_lqr}\")"
   ]
  },
  {
   "cell_type": "code",
   "execution_count": null,
   "metadata": {},
   "outputs": [],
   "source": [
    "dpgpd = Dpgpd(env, eta, tau, gamma, b, G1, G2, R1, R2, H)\n",
    "_, _, pl_exact, dl_exact = dpgpd.train_constrained(epochs, n_rho)"
   ]
  },
  {
   "cell_type": "code",
   "execution_count": null,
   "metadata": {},
   "outputs": [],
   "source": [
    "adpgpd = ADpgpd(env, eta, tau, gamma, b, alpha, G1, G2, R1, R2, H)\n",
    "_, _, pl_approx, dl_approx = adpgpd.train_constrained(epochs, n_pe, n_rho)"
   ]
  },
  {
   "cell_type": "code",
   "execution_count": null,
   "metadata": {},
   "outputs": [],
   "source": [
    "np.save('../results/vel_primal_exact.npy', pl_exact)\n",
    "np.save('../results/vel_dual_exact.npy', dl_exact)\n",
    "np.save('../results/vel_primal_approx.npy', pl_approx)\n",
    "np.save('../results/vel_dual_approx.npy', dl_approx)"
   ]
  },
  {
   "cell_type": "markdown",
   "metadata": {},
   "source": [
    "# 3 - Varying eta"
   ]
  },
  {
   "cell_type": "code",
   "execution_count": null,
   "metadata": {},
   "outputs": [],
   "source": [
    "pl_eta_exact, dl_eta_exact = [], []\n",
    "etas = [0.05, 0.01, 0.001]\n",
    "for eta in etas:\n",
    "    dpgpd = Dpgpd(env, eta, tau, gamma, b, G1, G2, R1, R2, H)\n",
    "    _, _, pl, dl = dpgpd.train_constrained(epochs, n_rho)\n",
    "    pl_eta_exact.append(pl), dl_eta_exact.append(dl)\n",
    "pl_eta_exact, dl_eta_exact = np.array(pl_eta_exact), np.array(dl_eta_exact)"
   ]
  },
  {
   "cell_type": "code",
   "execution_count": null,
   "metadata": {},
   "outputs": [],
   "source": [
    "pl_eta_approx, dl_eta_approx = [], []\n",
    "etas = [0.05, 0.01, 0.001]\n",
    "for eta in etas:\n",
    "    adpgpd = ADpgpd(env, eta, tau, gamma, b, alpha, G1, G2, R1, R2, H)\n",
    "    _, _, pl, dl = adpgpd.train_constrained(epochs, n_pe, n_rho)\n",
    "    pl_eta_approx.append(pl), dl_eta_approx.append(dl)\n",
    "pl_eta_approx, dl_eta_approx = np.array(pl_eta_approx), np.array(dl_eta_approx)"
   ]
  },
  {
   "cell_type": "code",
   "execution_count": null,
   "metadata": {},
   "outputs": [],
   "source": [
    "np.save('../results/vel_primal_exact_eta.npy', pl_eta_exact)\n",
    "np.save('../results/vel_dual_exact_eta.npy', dl_eta_exact)\n",
    "np.save('../results/vel_primal_approx_eta.npy', pl_eta_approx)\n",
    "np.save('../results/vel_dual_approx_eta.npy', dl_eta_approx)"
   ]
  },
  {
   "cell_type": "markdown",
   "metadata": {},
   "source": [
    "# 4 - Varying tau"
   ]
  },
  {
   "cell_type": "code",
   "execution_count": null,
   "metadata": {},
   "outputs": [],
   "source": [
    "pl_tau_exact, dl_tau_exact = [], []\n",
    "taus = [1.0, 0.5, 0.1, 0.01]\n",
    "eta = 0.01\n",
    "epochs = 2_000\n",
    "for tau in taus:\n",
    "    H = - (tau / 2) * torch.eye(da)\n",
    "    dpgpd = Dpgpd(env, eta, tau, gamma, b, G1, G2, R1, R2, H)\n",
    "    _, _, pl, dl = dpgpd.train_constrained(epochs, n_rho)\n",
    "    pl_tau_exact.append(pl), dl_tau_exact.append(dl)\n",
    "pl_tau_exact, dl_tau_exact = np.array(pl_tau_exact), np.array(dl_tau_exact)"
   ]
  },
  {
   "cell_type": "code",
   "execution_count": null,
   "metadata": {},
   "outputs": [],
   "source": [
    "pl_tau_approx, dl_tau_approx = [], []\n",
    "taus = [1.0, 0.5, 0.1, 0.01]\n",
    "eta = 0.01\n",
    "epochs = 2_000\n",
    "for tau in taus:\n",
    "    H = - (tau / 2) * torch.eye(da)\n",
    "    adpgpd = ADpgpd(env, eta, tau, gamma, b, alpha, G1, G2, R1, R2, H)\n",
    "    _, _, pl, dl = adpgpd.train_constrained(epochs, n_pe, n_rho)\n",
    "    pl_tau_approx.append(pl), dl_tau_approx.append(dl)\n",
    "pl_tau_approx, dl_tau_approx = np.array(pl_tau_approx), np.array(dl_tau_approx)"
   ]
  },
  {
   "cell_type": "code",
   "execution_count": null,
   "metadata": {},
   "outputs": [],
   "source": [
    "np.save('../results/vel_primal_exact_tau.npy', pl_tau_exact)\n",
    "np.save('../results/vel_dual_exact_tau.npy', dl_tau_exact)\n",
    "np.save('../results/vel_primal_approx_tau.npy', pl_tau_approx)\n",
    "np.save('../results/vel_dual_approx_tau.npy', dl_tau_approx)"
   ]
  },
  {
   "cell_type": "markdown",
   "metadata": {},
   "source": [
    "# 5 - Optimality gap"
   ]
  },
  {
   "cell_type": "code",
   "execution_count": null,
   "metadata": {},
   "outputs": [],
   "source": [
    "etas = [0.0005, 0.0002, 0.0001]\n",
    "epochs = 50_000\n",
    "n_rho = 1_000_000\n",
    "\n",
    "V_primal_opt = - 596\n",
    "\n",
    "dg_eta_exact = []\n",
    "for eta in etas:\n",
    "    dpgpd = Dpgpd(env, eta, tau, gamma, b, G1, G2, R1, R2, H)\n",
    "    dg = dpgpd.evaluate_duality_gap(V_primal_opt, epochs, n_rho)\n",
    "    dg_eta_exact.append(dg)\n",
    "dg_eta_exact = np.array(dg_eta_exact)"
   ]
  },
  {
   "cell_type": "code",
   "execution_count": null,
   "metadata": {},
   "outputs": [],
   "source": [
    "etas = [0.0005, 0.0002, 0.0001]\n",
    "epochs = 50_000\n",
    "n_rho = 1_000_000\n",
    "\n",
    "V_primal_opt = - 596.0\n",
    "\n",
    "dg_eta_inexact = []\n",
    "for eta in etas:\n",
    "    adpgpd = ADpgpd(env, eta, tau, gamma, b, alpha, G1, G2, R1, R2, H)\n",
    "    dg = adpgpd.evaluate_duality_gap(V_primal_opt, epochs, n_pe, n_rho)\n",
    "    dg_eta_inexact.append(dg)\n",
    "dg_eta_inexact = np.array(dg_eta_inexact)"
   ]
  },
  {
   "cell_type": "code",
   "execution_count": null,
   "metadata": {},
   "outputs": [],
   "source": [
    "np.save('../results/vel_primal_exact_dg.npy', dg_eta_exact)\n",
    "np.save('../results/vel_primal_inexact_dg.npy', dg_eta_inexact)"
   ]
  }
 ],
 "metadata": {
  "kernelspec": {
   "display_name": "venv",
   "language": "python",
   "name": "python3"
  },
  "language_info": {
   "codemirror_mode": {
    "name": "ipython",
    "version": 3
   },
   "file_extension": ".py",
   "mimetype": "text/x-python",
   "name": "python",
   "nbconvert_exporter": "python",
   "pygments_lexer": "ipython3",
   "version": "3.11.5"
  }
 },
 "nbformat": 4,
 "nbformat_minor": 2
}
