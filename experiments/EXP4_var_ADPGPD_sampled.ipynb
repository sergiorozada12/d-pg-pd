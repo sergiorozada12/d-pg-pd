{
 "cells": [
  {
   "cell_type": "code",
   "execution_count": 1,
   "metadata": {},
   "outputs": [],
   "source": [
    "import os, sys\n",
    "import numpy as np\n",
    "import torch\n",
    "import matplotlib.pyplot as plt"
   ]
  },
  {
   "cell_type": "code",
   "execution_count": 2,
   "metadata": {},
   "outputs": [],
   "source": [
    "d = os.getcwd()\n",
    "p = os.path.dirname(d)\n",
    "\n",
    "sys.path.append(p)"
   ]
  },
  {
   "cell_type": "code",
   "execution_count": 227,
   "metadata": {},
   "outputs": [],
   "source": [
    "from typing import Tuple\n",
    "import numpy as np\n",
    "import torch\n",
    "from torch import Tensor\n",
    "\n",
    "from src.config import Config\n",
    "\n",
    "\n",
    "class RobotWorld:\n",
    "    def __init__(self) -> None:\n",
    "        self.s_r = torch.tensor(Config.s_r)\n",
    "        self.rng = np.random.default_rng()\n",
    "        self.A, self.B = self.generate_dynamics(Config.time_step)\n",
    "        self.boundaries = torch.tensor(\n",
    "            [\n",
    "                Config.x_range,\n",
    "                Config.y_range,\n",
    "                Config.vx_range,\n",
    "                Config.vy_range,\n",
    "            ]\n",
    "        ).double()\n",
    "\n",
    "    def generate_initial_point(self, x_range, y_range, vx_range, vy_range) -> np.ndarray:\n",
    "        s_0 = torch.tensor([\n",
    "            self.rng.uniform(*x_range),\n",
    "            self.rng.uniform(*y_range),\n",
    "            self.rng.uniform(*vx_range),\n",
    "            self.rng.uniform(*vy_range),\n",
    "        ]).double()\n",
    "        return (s_0 - self.s_r)\n",
    "\n",
    "    def generate_dynamics(self, dt: float) -> Tuple[np.ndarray, np.ndarray]:\n",
    "        A = torch.tensor(\n",
    "            [\n",
    "                [1., 0, dt, 0],\n",
    "                [0, 1., 0, dt],\n",
    "                [0, 0, 1., 0],\n",
    "                [0, 0, 0, 1.],\n",
    "            ]\n",
    "        ).double()\n",
    "\n",
    "        B = torch.tensor(\n",
    "            [\n",
    "                [dt**2 / 2, 0.0],\n",
    "                [0.0, dt**2 / 2],\n",
    "                [dt, 0.0],\n",
    "                [0.0, dt],\n",
    "            ]\n",
    "        ).double()\n",
    "\n",
    "        return A, B\n",
    "\n",
    "    def reset(self):\n",
    "        self.s = self.generate_initial_point(\n",
    "            Config.x_range,\n",
    "            Config.y_range,\n",
    "            Config.vx_range,\n",
    "            Config.vy_range\n",
    "        )\n",
    "        return self.s\n",
    "\n",
    "    def generate_noise(self, size: int) -> Tensor:\n",
    "        return torch.tensor(\n",
    "            self.rng.normal(\n",
    "            scale=np.array(\n",
    "                [1, 20]\n",
    "            ),\n",
    "            size=size,\n",
    "        )) @ self.B.T\n",
    "\n",
    "    def step(self, u: np.ndarray) -> np.ndarray:\n",
    "        noise = self.generate_noise(u.shape[0])\n",
    "        self.s_noiseless = self.s @ self.A.T + u @ self.B.T \n",
    "        self.s = self.s_noiseless + noise\n",
    "        #self.s = torch.clip(self.s, self.boundaries[:, 0], self.boundaries[:, 1])\n",
    "        return self.s\n"
   ]
  },
  {
   "cell_type": "code",
   "execution_count": 228,
   "metadata": {},
   "outputs": [],
   "source": [
    "from typing import List, Tuple\n",
    "from numpy.random import default_rng\n",
    "from torch import (\n",
    "    eye, inverse, zeros, clamp, concat, cartesian_prod, tensor, ger, flatten, diag, Tensor\n",
    ")\n",
    "from torch.linalg import lstsq\n",
    "\n",
    "#from src.dynamics import RobotWorld\n",
    "from src.lqr import Lqr\n",
    "from src.sampling import Sampler\n",
    "\n",
    "\n",
    "RNG_SAMPLING = [-10, 10]\n",
    "\n",
    "\n",
    "class ADpgpdSampledVariance:\n",
    "    def __init__(\n",
    "            self,\n",
    "            env: RobotWorld,\n",
    "            eta: float,\n",
    "            tau: float,\n",
    "            gamma: float,\n",
    "            b: float,\n",
    "            alpha: float,\n",
    "            G: Tensor,\n",
    "            R: Tensor,\n",
    "        ) -> None:\n",
    "        self.env = env\n",
    "        self.eta = eta\n",
    "        self.tau = tau\n",
    "        self.gamma = gamma\n",
    "        self.b = b\n",
    "        self.alpha = alpha\n",
    "        self.ds, self.da = env.B.shape\n",
    "\n",
    "        self.G = G\n",
    "        self.R = R\n",
    "\n",
    "        self.lqr = Lqr(env.A, env.B, gamma)\n",
    "        self.sampler = Sampler(env, gamma)\n",
    "\n",
    "    def get_initial_point(self) -> Tuple[Tensor, Tensor]:\n",
    "        rng = default_rng()\n",
    "\n",
    "        s = tensor([\n",
    "            rng.uniform(*RNG_SAMPLING),\n",
    "            rng.uniform(*RNG_SAMPLING),\n",
    "            rng.uniform(*RNG_SAMPLING),\n",
    "            rng.uniform(*RNG_SAMPLING),\n",
    "        ]).double()\n",
    "\n",
    "        a = tensor([\n",
    "            rng.uniform(*RNG_SAMPLING),\n",
    "            rng.uniform(*RNG_SAMPLING),\n",
    "        ]).double()\n",
    "\n",
    "        return s, a\n",
    "\n",
    "    def get_expectation(self):\n",
    "        noise = self.env.generate_noise([10, self.da])\n",
    "        sp = self.env.s_noiseless + noise\n",
    "        r = ((sp @ self.G) * sp).sum(dim=1).mean()\n",
    "        return r\n",
    "\n",
    "    def primal_reward(self, a):\n",
    "        return (self.env.s @ self.G @ self.env.s + a @ self.R @ a).detach().item()\n",
    "\n",
    "    def dual_reward(self):\n",
    "        return (- (self.env.s @ self.G @ self.env.s - self.get_expectation())**2).detach().item()\n",
    "\n",
    "    def rollout_Q(self, s: Tensor, a: Tensor, K: Tensor, n: int, lmbda) -> float:\n",
    "        self.env.s = s\n",
    "        self.env.s_noiseless = s\n",
    "        q = self.primal_reward(a) + lmbda * self.dual_reward()\n",
    "        s = self.env.step(a)\n",
    "        for i in range(1, n):\n",
    "            a = s @ K.T\n",
    "            r = self.primal_reward(a) + lmbda * self.dual_reward()\n",
    "            q += (self.gamma ** i) * r\n",
    "            s = self.env.step(a)\n",
    "        return q\n",
    "\n",
    "    def rollout_V(self, s: Tensor, K: Tensor, n: int, is_primal: int) -> float:\n",
    "        self.env.s = s\n",
    "        self.env.s_noiseless = s\n",
    "        v = 0\n",
    "        for i in range(n):\n",
    "            a = s @ K.T\n",
    "            r = is_primal * self.primal_reward(a) + (1 - is_primal) * self.dual_reward()\n",
    "            v += (self.gamma**i) * r\n",
    "\n",
    "            sp = self.env.step(a)\n",
    "            s = sp\n",
    "        return v\n",
    "\n",
    "    def rollout_V_rho(self, K: Tensor, n_samples: int, n_rollout, is_primal: int) -> float:\n",
    "        v = 0\n",
    "        for _ in range(n_samples):\n",
    "            s = self.env.reset()\n",
    "            v += self.rollout_V(s, K, n_rollout, is_primal)\n",
    "        return (v / n_samples)\n",
    "\n",
    "    def policy_evaluation(self, K: Tensor, lmbda: Tensor, n_samples: int, n_rollout: int) -> Tensor:\n",
    "        X, y = zeros((n_samples, 36)), zeros(n_samples)\n",
    "        for n in range(n_samples):\n",
    "            s, a = self.get_initial_point()\n",
    "            s_a = concat([s, a])\n",
    "            b = flatten(ger(s_a, s_a) + diag((self.alpha - 1) * s_a**2))\n",
    "\n",
    "            a_pi = s @ K.T\n",
    "            q = self.rollout_Q(s, a, K, n_rollout, lmbda)\n",
    "            l = q + (1 / self.eta) * a_pi @ a\n",
    "\n",
    "            X[n] = b\n",
    "            y[n] = l\n",
    "        theta = lstsq(X, y, driver='gelsd').solution\n",
    "        return theta\n",
    "\n",
    "    def primal_update(self, theta: Tensor) -> Tensor:\n",
    "        W_1 = zeros((self.da, self.ds))\n",
    "        for i in range(self.da):\n",
    "            for j in range(self.ds):\n",
    "                s_idx, a_idx = zeros(self.ds), zeros(self.da)\n",
    "                s_idx[j] = -1\n",
    "                a_idx[i] = 1\n",
    "                s_a_idx = concat([s_idx, a_idx])\n",
    "                mask = - cartesian_prod(s_a_idx, s_a_idx).prod(dim=1).clip(-1, 0) \n",
    "                w = (theta * mask).sum()\n",
    "                W_1[i, j] = w\n",
    "\n",
    "        W_2 = zeros((self.da, self.da))\n",
    "        for i in range(self.da):\n",
    "            for j in range(self.da):\n",
    "                s_idx, a_idx = zeros(self.ds), zeros(self.da)\n",
    "                a_idx[i] = 1\n",
    "                a_idx[j] = -1\n",
    "                s_a_idx = concat([s_idx, a_idx])\n",
    "\n",
    "                if i == j:\n",
    "                    mask = cartesian_prod(s_a_idx, s_a_idx).prod(dim=1)\n",
    "                    w = (theta * mask).sum()\n",
    "                    W_2[i, j] = 2 * w * self.alpha\n",
    "                else:\n",
    "                    mask = - cartesian_prod(s_a_idx, s_a_idx).prod(dim=1).clip(-1, 0) \n",
    "                    w = (theta * mask).sum()\n",
    "                    W_2[i, j] = w\n",
    "        K = - inverse(W_2 - (self.tau + 1 / self.eta) * eye(self.da)) @ W_1\n",
    "        return K.double()\n",
    "\n",
    "    def dual_update(self, K: Tensor, lmbda: Tensor, n_samples: int, n_rollout) -> Tensor:\n",
    "        v = self.rollout_V_rho(K, n_samples, n_rollout, 0)\n",
    "        return clamp(lmbda - self.eta * (v - self.b + self.tau * lmbda), min=0)\n",
    "\n",
    "    def train_unconstrained(self, epochs: int, n_pe: int, n_rho: int, n_roll: int) -> Tuple[Tensor, List[float], List[float]]:\n",
    "        losses_primal, losses_dual = [], []\n",
    "        theta = zeros((self.ds + self.da)**2)\n",
    "        K = self.primal_update(theta)\n",
    "        for e in range(epochs):\n",
    "            if e % 10 == 0:\n",
    "                loss_primal = self.rollout_V_rho(K, n_rho, n_roll, 1)\n",
    "                loss_dual = self.rollout_V_rho(K, n_rho, n_roll, 0)\n",
    "                losses_primal.append(loss_primal)\n",
    "                losses_dual.append(loss_dual)\n",
    "\n",
    "            theta = self.policy_evaluation(K, 0, n_pe, n_roll)\n",
    "            K = self.primal_update(theta)\n",
    "\n",
    "            print(f\"Episode {e}/{epochs} - Return {loss_primal} \\r\", end='')\n",
    "        return K, losses_primal, losses_dual\n",
    "\n",
    "    def train_constrained(self, epochs: int, n_pe: int, n_rho: int, n_roll: int) -> Tuple[Tensor, Tensor, List[float], List[float]]:\n",
    "        losses_primal, losses_dual = [], []\n",
    "        theta = zeros((self.ds + self.da)**2)\n",
    "        K = self.primal_update(theta)\n",
    "        lmbda = zeros(1)\n",
    "        for e in range(epochs):\n",
    "            if e % 10 == 0:\n",
    "                loss_primal = self.rollout_V_rho(K, n_rho, n_roll, 1)\n",
    "                loss_dual = self.rollout_V_rho(K, n_rho, n_roll, 0)\n",
    "                losses_primal.append(loss_primal)\n",
    "                losses_dual.append(loss_dual)\n",
    "\n",
    "            theta = self.policy_evaluation(K, lmbda, n_pe, n_roll)\n",
    "            K = self.primal_update(theta)\n",
    "            lmbda = self.dual_update(K, lmbda, n_rho, n_roll)\n",
    "\n",
    "            print(f'Episode {e}/{epochs} - Return {loss_primal} - Constrain {loss_dual} - Lambda {lmbda.detach().item()}\\r', end='')\n",
    "        return K, lmbda, losses_primal, losses_dual\n",
    "\n",
    "    def resume_training(self, K, lmbda, losses_primal, losses_dual, epochs: int, n_pe: int, n_rho: int, n_roll: int):\n",
    "        for e in range(epochs):\n",
    "            if e % 10 == 0:\n",
    "                loss_primal = self.rollout_V_rho(K, n_rho, n_roll, 1)\n",
    "                loss_dual = self.rollout_V_rho(K, n_rho, n_roll, 0)\n",
    "                losses_primal.append(loss_primal)\n",
    "                losses_dual.append(loss_dual)\n",
    "\n",
    "            theta = self.policy_evaluation(K, lmbda, n_pe, n_roll)\n",
    "            K = self.primal_update(theta)\n",
    "            lmbda = self.dual_update(K, lmbda, n_rho, n_roll)\n",
    "\n",
    "            print(f'Episode {e}/{epochs} - Return {loss_primal} - Constrain {loss_dual} - Lambda {lmbda.detach().item()}\\r', end='')\n",
    "        return K, lmbda, losses_primal, losses_dual"
   ]
  },
  {
   "cell_type": "code",
   "execution_count": 229,
   "metadata": {},
   "outputs": [],
   "source": [
    "#from src.dynamics import RobotWorld\n",
    "from src.lqr import Lqr\n",
    "#from src.algorithms.adpgpd import ADpgpdSampledVariance\n",
    "from src.sampling import Sampler"
   ]
  },
  {
   "cell_type": "code",
   "execution_count": 240,
   "metadata": {},
   "outputs": [],
   "source": [
    "ds = 4\n",
    "da = 2\n",
    "\n",
    "tau = 0.1\n",
    "gamma = 0.9\n",
    "alpha = 1.0\n",
    "\n",
    "b = -1\n",
    "\n",
    "G = - torch.tensor([\n",
    "    [1.0, 0, 0, 0],\n",
    "    [0, 1.0, 0, 0],\n",
    "    [0, 0, 0.1, 0],\n",
    "    [0, 0, 0, 0.1]\n",
    "]).double()\n",
    "\n",
    "R =  - torch.tensor([\n",
    "    [0.1, 0],\n",
    "    [0, 0.1],\n",
    "]).double()"
   ]
  },
  {
   "cell_type": "markdown",
   "metadata": {},
   "source": [
    "# Opt unconstrained"
   ]
  },
  {
   "cell_type": "code",
   "execution_count": 241,
   "metadata": {},
   "outputs": [
    {
     "data": {
      "text/plain": [
       "-569.6720063399181"
      ]
     },
     "execution_count": 241,
     "metadata": {},
     "output_type": "execute_result"
    }
   ],
   "source": [
    "env = RobotWorld()\n",
    "lqr = Lqr(env.A, env.B, gamma)\n",
    "sampler = Sampler(env, gamma)\n",
    "\n",
    "P = lqr.calculate_optimal_P(G, R)\n",
    "K = lqr.calculate_optimal_K(R, P)\n",
    "opt_lqr = sampler.estimate_V_rho(P, 1_000_000)\n",
    "opt_lqr"
   ]
  },
  {
   "cell_type": "markdown",
   "metadata": {},
   "source": [
    "# Unconstrained"
   ]
  },
  {
   "cell_type": "code",
   "execution_count": 242,
   "metadata": {},
   "outputs": [
    {
     "name": "stdout",
     "output_type": "stream",
     "text": [
      "Episode 49/50 - Return -593.171346177093  \r"
     ]
    }
   ],
   "source": [
    "epochs = 50\n",
    "n_pe = 100\n",
    "n_rho = 1_000\n",
    "n_roll = 100\n",
    "\n",
    "eta = 0.1\n",
    "\n",
    "env = RobotWorld()\n",
    "sampler = Sampler(env, gamma)\n",
    "dpgpd = ADpgpdSampledVariance(env, eta, tau, gamma, b, alpha, G, R)\n",
    "\n",
    "K, losses_primal, losses_dual = dpgpd.train_unconstrained(epochs, n_pe, n_rho, n_roll)"
   ]
  },
  {
   "cell_type": "code",
   "execution_count": 243,
   "metadata": {},
   "outputs": [
    {
     "data": {
      "image/png": "[encoded data removed]",
      "text/plain": [
       "<Figure size 640x480 with 2 Axes>"
      ]
     },
     "metadata": {},
     "output_type": "display_data"
    }
   ],
   "source": [
    "fig, axes = plt.subplots(nrows=2, ncols=1)\n",
    "axes = axes.flatten()\n",
    "axes[0].plot(losses_primal)\n",
    "axes[0].axhline(y=opt_lqr, color='r', linestyle='--')\n",
    "axes[1].plot(losses_dual)\n",
    "plt.show()"
   ]
  },
  {
   "cell_type": "code",
   "execution_count": 256,
   "metadata": {},
   "outputs": [
    {
     "data": {
      "image/png": "[encoded data removed]",
      "text/plain": [
       "<Figure size 400x400 with 1 Axes>"
      ]
     },
     "metadata": {},
     "output_type": "display_data"
    }
   ],
   "source": [
    "T = 1_000\n",
    "states, actions = sampler.sample_trajectory(K, T)\n",
    "plt.figure(figsize=[4, 4])\n",
    "plt.scatter([0], [0], marker='*')\n",
    "plt.plot(states[:, 0], states[:, 1])\n",
    "plt.xlim(-10, 10)\n",
    "plt.ylim(-10, 10)\n",
    "plt.axis('off')\n",
    "plt.show()"
   ]
  },
  {
   "cell_type": "markdown",
   "metadata": {},
   "source": [
    "# Constrained"
   ]
  },
  {
   "cell_type": "code",
   "execution_count": 257,
   "metadata": {},
   "outputs": [
    {
     "name": "stdout",
     "output_type": "stream",
     "text": [
      "Episode 49/50 - Return -606.1146840836781 - Constrain -3.4042396224995954 - Lambda 5.0575599670410164\r"
     ]
    }
   ],
   "source": [
    "epochs = 50\n",
    "n_pe = 100\n",
    "n_rho = 1_000\n",
    "n_roll = 100\n",
    "\n",
    "eta = 0.1\n",
    "\n",
    "b = -2\n",
    "\n",
    "env = RobotWorld()\n",
    "sampler = Sampler(env, gamma)\n",
    "dpgpd = ADpgpdSampledVariance(env, eta, tau, gamma, b, alpha, G, R)\n",
    "\n",
    "K, lmbda, losses_primal, losses_dual = dpgpd.train_constrained(epochs, n_pe, n_rho, n_roll)"
   ]
  },
  {
   "cell_type": "code",
   "execution_count": 262,
   "metadata": {},
   "outputs": [
    {
     "name": "stdout",
     "output_type": "stream",
     "text": [
      "Episode 49/50 - Return -613.2054929411471 - Constrain -3.0702926353105076 - Lambda 7.4094495773315435\r"
     ]
    }
   ],
   "source": [
    "dpgpd = ADpgpdSampledVariance(env, eta, tau, gamma, b, alpha, G, R)\n",
    "K, lmbda, losses_primal, losses_dual = dpgpd.resume_training(K, lmbda, losses_primal, losses_dual, epochs, n_pe, n_rho, n_roll)"
   ]
  },
  {
   "cell_type": "code",
   "execution_count": 261,
   "metadata": {},
   "outputs": [
    {
     "data": {
      "image/png": "[encoded data removed]",
      "text/plain": [
       "<Figure size 640x480 with 2 Axes>"
      ]
     },
     "metadata": {},
     "output_type": "display_data"
    }
   ],
   "source": [
    "fig, axes = plt.subplots(nrows=2, ncols=1)\n",
    "axes = axes.flatten()\n",
    "axes[0].plot(losses_primal)\n",
    "axes[0].axhline(y=opt_lqr, color='r', linestyle='--')\n",
    "axes[1].plot(losses_dual)\n",
    "axes[1].axhline(y=b, color='r', linestyle='--')\n",
    "plt.show()"
   ]
  },
  {
   "cell_type": "code",
   "execution_count": null,
   "metadata": {},
   "outputs": [],
   "source": []
  }
 ],
 "metadata": {
  "kernelspec": {
   "display_name": "venv",
   "language": "python",
   "name": "python3"
  },
  "language_info": {
   "codemirror_mode": {
    "name": "ipython",
    "version": 3
   },
   "file_extension": ".py",
   "mimetype": "text/x-python",
   "name": "python",
   "nbconvert_exporter": "python",
   "pygments_lexer": "ipython3",
   "version": "3.11.5"
  }
 },
 "nbformat": 4,
 "nbformat_minor": 2
}
