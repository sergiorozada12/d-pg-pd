{
 "cells": [
  {
   "cell_type": "code",
   "execution_count": 1,
   "metadata": {},
   "outputs": [],
   "source": [
    "import numpy as np\n",
    "import scipy.linalg as scp\n",
    "import matplotlib.pyplot as plt"
   ]
  },
  {
   "cell_type": "code",
   "execution_count": 2,
   "metadata": {},
   "outputs": [],
   "source": [
    "from src.dynamics import RobotWorld\n",
    "from src.controllers.lqr import Lqr"
   ]
  },
  {
   "cell_type": "markdown",
   "metadata": {},
   "source": [
    "# LQR"
   ]
  },
  {
   "cell_type": "code",
   "execution_count": 3,
   "metadata": {},
   "outputs": [],
   "source": [
    "s_r = [0, 0, 0, 0]\n",
    "\n",
    "Q = np.eye(4)\n",
    "R = np.eye(2)"
   ]
  },
  {
   "cell_type": "code",
   "execution_count": 6,
   "metadata": {},
   "outputs": [],
   "source": [
    "env = RobotWorld()\n",
    "controller = Lqr(env.A, env.B, Q, R, s_r)\n",
    "\n",
    "s = env.reset()\n",
    "trajectory = np.zeros([1000, 4])\n",
    "trajectory[0] = s\n",
    "\n",
    "e_d, e_i = np.zeros(2), np.zeros(2)\n",
    "for i in range(1, 1000):\n",
    "    u = controller.pi(s)\n",
    "    s = env.step(u)\n",
    "    trajectory[i] = s"
   ]
  },
  {
   "cell_type": "code",
   "execution_count": 7,
   "metadata": {},
   "outputs": [
    {
     "data": {
      "image/png": "[encoded data removed]",
      "text/plain": [
       "<Figure size 640x480 with 1 Axes>"
      ]
     },
     "metadata": {},
     "output_type": "display_data"
    }
   ],
   "source": [
    "plt.scatter(trajectory[0, 0], trajectory[0, 1], marker='+')\n",
    "plt.scatter(trajectory[-1, 0], trajectory[-1, 1], marker='o')\n",
    "plt.scatter(s_r[0], s_r[1], marker='*')\n",
    "plt.plot(trajectory[:, 0], trajectory[:, 1])\n",
    "plt.xlim(-10, 10)\n",
    "plt.ylim(-10, 10)\n",
    "plt.axis('off')\n",
    "plt.show()"
   ]
  },
  {
   "cell_type": "code",
   "execution_count": null,
   "metadata": {},
   "outputs": [],
   "source": []
  },
  {
   "cell_type": "code",
   "execution_count": null,
   "metadata": {},
   "outputs": [],
   "source": []
  },
  {
   "cell_type": "code",
   "execution_count": 104,
   "metadata": {},
   "outputs": [],
   "source": [
    "s_r = [0, 0, 0, 0]\n",
    "\n",
    "Kp = 10.0\n",
    "Ki = 0.1\n",
    "Kd = 0.01\n",
    "\n",
    "Q = np.eye(4)\n",
    "R = np.eye(2)"
   ]
  },
  {
   "cell_type": "code",
   "execution_count": 130,
   "metadata": {},
   "outputs": [],
   "source": [
    "def p_control(s):\n",
    "    return Kp * (s_r[:2] - s)"
   ]
  },
  {
   "cell_type": "code",
   "execution_count": 131,
   "metadata": {},
   "outputs": [],
   "source": [
    "def pid_control(s, e_d, e_i):\n",
    "    e = s_r - s\n",
    "    e_i += e\n",
    "\n",
    "    p = Kp * e\n",
    "    i = Ki * e_i\n",
    "    d = Kd * (e - e_d)\n",
    "    u = p + i + d\n",
    "\n",
    "    e_d = e\n",
    "    return u, e_d, e_i"
   ]
  },
  {
   "cell_type": "code",
   "execution_count": 132,
   "metadata": {},
   "outputs": [],
   "source": [
    "def solve_lqr(A, B, Q, R):\n",
    "    P = scp.solve_discrete_are(A, B, Q, R)\n",
    "    K = np.dot(np.dot(np.linalg.inv(R), B.T), P)\n",
    "    return K"
   ]
  },
  {
   "cell_type": "code",
   "execution_count": 133,
   "metadata": {},
   "outputs": [
    {
     "ename": "ValueError",
     "evalue": "matmul: Input operand 1 has a mismatch in its core dimension 0, with gufunc signature (n?,k),(k,m?)->(n?,m?) (size 2 is different from 4)",
     "output_type": "error",
     "traceback": [
      "\u001b[0;31m---------------------------------------------------------------------------\u001b[0m",
      "\u001b[0;31mValueError\u001b[0m                                Traceback (most recent call last)",
      "Cell \u001b[0;32mIn[133], line 13\u001b[0m\n\u001b[1;32m     10\u001b[0m u \u001b[38;5;241m=\u001b[39m p_control(s)\n\u001b[1;32m     11\u001b[0m \u001b[38;5;66;03m# u, e_d, e_i = pid_control(s, e_d, e_i)\u001b[39;00m\n\u001b[1;32m     12\u001b[0m \u001b[38;5;66;03m# u = (s_r - s) @ K.T\u001b[39;00m\n\u001b[0;32m---> 13\u001b[0m s \u001b[38;5;241m=\u001b[39m \u001b[43menv\u001b[49m\u001b[38;5;241;43m.\u001b[39;49m\u001b[43mstep\u001b[49m\u001b[43m(\u001b[49m\u001b[43mu\u001b[49m\u001b[43m)\u001b[49m\n\u001b[1;32m     14\u001b[0m trajectory[i] \u001b[38;5;241m=\u001b[39m s\n",
      "File \u001b[0;32m~/Repositories/d-pg-pd/src/dynamics.py:63\u001b[0m, in \u001b[0;36mRobotWorld.step\u001b[0;34m(self, u)\u001b[0m\n\u001b[1;32m     51\u001b[0m \u001b[38;5;28;01mdef\u001b[39;00m \u001b[38;5;21mstep\u001b[39m(\u001b[38;5;28mself\u001b[39m, u: np\u001b[38;5;241m.\u001b[39mndarray) \u001b[38;5;241m-\u001b[39m\u001b[38;5;241m>\u001b[39m np\u001b[38;5;241m.\u001b[39mndarray:\n\u001b[1;32m     52\u001b[0m     noise \u001b[38;5;241m=\u001b[39m \u001b[38;5;28mself\u001b[39m\u001b[38;5;241m.\u001b[39mrng\u001b[38;5;241m.\u001b[39mnormal(\n\u001b[1;32m     53\u001b[0m         scale\u001b[38;5;241m=\u001b[39mnp\u001b[38;5;241m.\u001b[39marray(\n\u001b[1;32m     54\u001b[0m             [\n\u001b[0;32m   (...)\u001b[0m\n\u001b[1;32m     61\u001b[0m         size\u001b[38;5;241m=\u001b[39m\u001b[38;5;28mself\u001b[39m\u001b[38;5;241m.\u001b[39ms\u001b[38;5;241m.\u001b[39mshape,\n\u001b[1;32m     62\u001b[0m     )\n\u001b[0;32m---> 63\u001b[0m     \u001b[38;5;28mself\u001b[39m\u001b[38;5;241m.\u001b[39ms \u001b[38;5;241m=\u001b[39m \u001b[38;5;28mself\u001b[39m\u001b[38;5;241m.\u001b[39ms \u001b[38;5;241m@\u001b[39m \u001b[38;5;28mself\u001b[39m\u001b[38;5;241m.\u001b[39mA\u001b[38;5;241m.\u001b[39mT \u001b[38;5;241m+\u001b[39m \u001b[43mu\u001b[49m\u001b[43m \u001b[49m\u001b[38;5;241;43m@\u001b[39;49m\u001b[43m \u001b[49m\u001b[38;5;28;43mself\u001b[39;49m\u001b[38;5;241;43m.\u001b[39;49m\u001b[43mB\u001b[49m\u001b[38;5;241;43m.\u001b[39;49m\u001b[43mT\u001b[49m \u001b[38;5;241m+\u001b[39m noise\n\u001b[1;32m     64\u001b[0m     \u001b[38;5;28mself\u001b[39m\u001b[38;5;241m.\u001b[39ms \u001b[38;5;241m=\u001b[39m np\u001b[38;5;241m.\u001b[39mclip(\u001b[38;5;28mself\u001b[39m\u001b[38;5;241m.\u001b[39ms, \u001b[38;5;28mself\u001b[39m\u001b[38;5;241m.\u001b[39mboundaries[:, \u001b[38;5;241m0\u001b[39m], \u001b[38;5;28mself\u001b[39m\u001b[38;5;241m.\u001b[39mboundaries[:, \u001b[38;5;241m1\u001b[39m])\n\u001b[1;32m     65\u001b[0m     \u001b[38;5;28;01mreturn\u001b[39;00m \u001b[38;5;28mself\u001b[39m\u001b[38;5;241m.\u001b[39ms\n",
      "\u001b[0;31mValueError\u001b[0m: matmul: Input operand 1 has a mismatch in its core dimension 0, with gufunc signature (n?,k),(k,m?)->(n?,m?) (size 2 is different from 4)"
     ]
    }
   ],
   "source": [
    "env = RobotWorld()\n",
    "K = solve_lqr(env.A, env.B, Q, R)\n",
    "\n",
    "s = env.s\n",
    "trajectory = np.zeros([1000, 4])\n",
    "trajectory[0] = s\n",
    "\n",
    "e_d, e_i = np.zeros(2), np.zeros(2)\n",
    "for i in range(1, 1000):\n",
    "    u = p_control(s)\n",
    "    # u, e_d, e_i = pid_control(s, e_d, e_i)\n",
    "    # u = (s_r - s) @ K.T\n",
    "    s = env.step(u)\n",
    "    trajectory[i] = s"
   ]
  },
  {
   "cell_type": "code",
   "execution_count": 129,
   "metadata": {},
   "outputs": [
    {
     "data": {
      "image/png": "[encoded data removed]",
      "text/plain": [
       "<Figure size 640x480 with 1 Axes>"
      ]
     },
     "metadata": {},
     "output_type": "display_data"
    }
   ],
   "source": [
    "plt.scatter(trajectory[0, 0], trajectory[0, 1], marker='+')\n",
    "plt.scatter(trajectory[-1, 0], trajectory[-1, 1], marker='o')\n",
    "plt.scatter(s_r[0], s_r[1], marker='*')\n",
    "plt.plot(trajectory[:, 0], trajectory[:, 1])\n",
    "plt.xlim(-10, 10)\n",
    "plt.ylim(-10, 10)\n",
    "plt.axis('off')\n",
    "plt.show()"
   ]
  },
  {
   "cell_type": "code",
   "execution_count": null,
   "metadata": {},
   "outputs": [],
   "source": []
  },
  {
   "cell_type": "code",
   "execution_count": null,
   "metadata": {},
   "outputs": [],
   "source": []
  },
  {
   "cell_type": "code",
   "execution_count": null,
   "metadata": {},
   "outputs": [],
   "source": []
  }
 ],
 "metadata": {
  "kernelspec": {
   "display_name": "venv",
   "language": "python",
   "name": "python3"
  },
  "language_info": {
   "codemirror_mode": {
    "name": "ipython",
    "version": 3
   },
   "file_extension": ".py",
   "mimetype": "text/x-python",
   "name": "python",
   "nbconvert_exporter": "python",
   "pygments_lexer": "ipython3",
   "version": "3.11.5"
  }
 },
 "nbformat": 4,
 "nbformat_minor": 2
}
